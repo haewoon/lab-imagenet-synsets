{
  "nbformat": 4,
  "nbformat_minor": 0,
  "metadata": {
    "colab": {
      "name": "Lab - ImageNet Synsets.ipynb",
      "provenance": [],
      "collapsed_sections": []
    },
    "kernelspec": {
      "name": "python3",
      "display_name": "Python 3"
    },
    "language_info": {
      "name": "python"
    }
  },
  "cells": [
    {
      "cell_type": "markdown",
      "metadata": {
        "id": "RyFLqSDvr5Qj"
      },
      "source": [
        "```\n",
        "Last modified: 2021/08/15, @haewoon\n",
        "```\n",
        "\n",
        "## Lab #2: Synsets in ImageNet\n",
        "[![Open In Colab](https://colab.research.google.com/assets/colab-badge.svg)](https://colab.research.google.com/github/haewoon/lab-imagenet-synsets/blob/master/Lab%20-%20ImageNet%20Synsets.ipynb)\n"
      ]
    },
    {
      "cell_type": "markdown",
      "metadata": {
        "id": "-Q-Qg9-qtGKr"
      },
      "source": [
        "## Download unsafe synsets and safe synsets from image-net.org"
      ]
    },
    {
      "cell_type": "code",
      "metadata": {
        "id": "3qpITvhErwUl"
      },
      "source": [
        "import requests"
      ],
      "execution_count": 2,
      "outputs": []
    },
    {
      "cell_type": "code",
      "metadata": {
        "id": "_U3-yH0Rsm2t"
      },
      "source": [
        "url = 'https://image-net.org/filtering-and-balancing/unsafe_synsets.txt'\n",
        "r = requests.get(url, allow_redirects=True)\n",
        "\n",
        "with open('unsafe_synsets.txt', 'w') as fo:\n",
        "    fo.write(r.text)"
      ],
      "execution_count": 3,
      "outputs": []
    },
    {
      "cell_type": "code",
      "metadata": {
        "id": "k43WgAjUssxs"
      },
      "source": [
        "url = 'https://image-net.org/filtering-and-balancing/safe_synsets.txt'\n",
        "r = requests.get(url, allow_redirects=True)\n",
        "\n",
        "with open('safe_synsets.txt', 'w') as fo:\n",
        "    fo.write(r.text)"
      ],
      "execution_count": 4,
      "outputs": []
    },
    {
      "cell_type": "code",
      "metadata": {
        "colab": {
          "base_uri": "https://localhost:8080/"
        },
        "id": "Bvlq-VE9syFU",
        "outputId": "4e7d7194-6387-43c9-c02c-f26b2cf4e932"
      },
      "source": [
        "!wc -l unsafe_synsets.txt"
      ],
      "execution_count": 5,
      "outputs": [
        {
          "output_type": "stream",
          "name": "stdout",
          "text": [
            "1593 unsafe_synsets.txt\n"
          ]
        }
      ]
    },
    {
      "cell_type": "code",
      "metadata": {
        "colab": {
          "base_uri": "https://localhost:8080/"
        },
        "id": "vjJh7NmntAir",
        "outputId": "0bcb77e6-bee5-4c6d-aab8-69be3e285c52"
      },
      "source": [
        "!wc -l safe_synsets.txt"
      ],
      "execution_count": 6,
      "outputs": [
        {
          "output_type": "stream",
          "name": "stdout",
          "text": [
            "1239 safe_synsets.txt\n"
          ]
        }
      ]
    },
    {
      "cell_type": "markdown",
      "metadata": {
        "id": "KD-YkvqMtw97"
      },
      "source": [
        "Downloaded *_synsets.txt files contain only synset IDs."
      ]
    },
    {
      "cell_type": "code",
      "metadata": {
        "colab": {
          "base_uri": "https://localhost:8080/"
        },
        "id": "uUC8D486ttad",
        "outputId": "ef953b0a-a5c5-4a5a-b3b3-cb056e2c858e"
      },
      "source": [
        "!head unsafe_synsets.txt"
      ],
      "execution_count": 7,
      "outputs": [
        {
          "output_type": "stream",
          "name": "stdout",
          "text": [
            "n10252354\n",
            "n10178216\n",
            "n10113583\n",
            "n09632274\n",
            "n10665587\n",
            "n09743487\n",
            "n10274815\n",
            "n09685233\n",
            "n10355806\n",
            "n09793946\n"
          ]
        }
      ]
    },
    {
      "cell_type": "markdown",
      "metadata": {
        "id": "fuJDi4Nhthu3"
      },
      "source": [
        "## Make synset IDs to human-readable"
      ]
    },
    {
      "cell_type": "code",
      "metadata": {
        "colab": {
          "base_uri": "https://localhost:8080/"
        },
        "id": "FViPNhuqu1V9",
        "outputId": "2abffdc1-e080-4f92-d81f-892c88a83303"
      },
      "source": [
        "import nltk\n",
        "nltk.download('wordnet')"
      ],
      "execution_count": 10,
      "outputs": [
        {
          "output_type": "stream",
          "name": "stdout",
          "text": [
            "[nltk_data] Downloading package wordnet to /root/nltk_data...\n",
            "[nltk_data]   Unzipping corpora/wordnet.zip.\n"
          ]
        },
        {
          "output_type": "execute_result",
          "data": {
            "text/plain": [
              "True"
            ]
          },
          "metadata": {},
          "execution_count": 10
        }
      ]
    },
    {
      "cell_type": "code",
      "metadata": {
        "id": "F9P5oylutB_f"
      },
      "source": [
        "from nltk.corpus import wordnet as wn\n",
        "\n",
        "def make_human_readable(filename):\n",
        "  with open(filename) as fi, open(f'hr_{filename[:-4]}.csv', 'w') as fo:\n",
        "    fo.write('synsetID,hr_form\\n')\n",
        "    for line in fi:\n",
        "      fo.write(f'{line.strip()}, {wn.synset_from_pos_and_offset(line[0], int(line[1:]))}\\n')\n",
        "\n",
        "make_human_readable('safe_synsets.txt')\n",
        "make_human_readable('unsafe_synsets.txt')"
      ],
      "execution_count": 22,
      "outputs": []
    },
    {
      "cell_type": "code",
      "metadata": {
        "id": "i6_3k_8quubX"
      },
      "source": [
        "import pandas as pd"
      ],
      "execution_count": 23,
      "outputs": []
    },
    {
      "cell_type": "code",
      "metadata": {
        "colab": {
          "base_uri": "https://localhost:8080/",
          "height": 676
        },
        "id": "8aBTDJ7zvW1a",
        "outputId": "91e0d9f2-1a14-4b00-e6ef-2f4c07867a61"
      },
      "source": [
        "df_unsafe = pd.read_csv('hr_unsafe_synsets.csv')\n",
        "df_unsafe.head(n=20)"
      ],
      "execution_count": 26,
      "outputs": [
        {
          "output_type": "execute_result",
          "data": {
            "text/html": [
              "<div>\n",
              "<style scoped>\n",
              "    .dataframe tbody tr th:only-of-type {\n",
              "        vertical-align: middle;\n",
              "    }\n",
              "\n",
              "    .dataframe tbody tr th {\n",
              "        vertical-align: top;\n",
              "    }\n",
              "\n",
              "    .dataframe thead th {\n",
              "        text-align: right;\n",
              "    }\n",
              "</style>\n",
              "<table border=\"1\" class=\"dataframe\">\n",
              "  <thead>\n",
              "    <tr style=\"text-align: right;\">\n",
              "      <th></th>\n",
              "      <th>synsetID</th>\n",
              "      <th>hr_form</th>\n",
              "    </tr>\n",
              "  </thead>\n",
              "  <tbody>\n",
              "    <tr>\n",
              "      <th>0</th>\n",
              "      <td>n10252354</td>\n",
              "      <td>Synset('lector.n.01')</td>\n",
              "    </tr>\n",
              "    <tr>\n",
              "      <th>1</th>\n",
              "      <td>n10178216</td>\n",
              "      <td>Synset('hitter.n.02')</td>\n",
              "    </tr>\n",
              "    <tr>\n",
              "      <th>2</th>\n",
              "      <td>n10113583</td>\n",
              "      <td>Synset('front_man.n.01')</td>\n",
              "    </tr>\n",
              "    <tr>\n",
              "      <th>3</th>\n",
              "      <td>n09632274</td>\n",
              "      <td>Synset('unskilled_person.n.01')</td>\n",
              "    </tr>\n",
              "    <tr>\n",
              "      <th>4</th>\n",
              "      <td>n10665587</td>\n",
              "      <td>Synset('stud.n.01')</td>\n",
              "    </tr>\n",
              "    <tr>\n",
              "      <th>5</th>\n",
              "      <td>n09743487</td>\n",
              "      <td>Synset('mainer.n.01')</td>\n",
              "    </tr>\n",
              "    <tr>\n",
              "      <th>6</th>\n",
              "      <td>n10274815</td>\n",
              "      <td>Synset('lowerclassman.n.01')</td>\n",
              "    </tr>\n",
              "    <tr>\n",
              "      <th>7</th>\n",
              "      <td>n09685233</td>\n",
              "      <td>Synset('hare_krishna.n.01')</td>\n",
              "    </tr>\n",
              "    <tr>\n",
              "      <th>8</th>\n",
              "      <td>n10355806</td>\n",
              "      <td>Synset('new_dealer.n.01')</td>\n",
              "    </tr>\n",
              "    <tr>\n",
              "      <th>9</th>\n",
              "      <td>n09793946</td>\n",
              "      <td>Synset('angler.n.02')</td>\n",
              "    </tr>\n",
              "    <tr>\n",
              "      <th>10</th>\n",
              "      <td>n10554846</td>\n",
              "      <td>Synset('scalper.n.01')</td>\n",
              "    </tr>\n",
              "    <tr>\n",
              "      <th>11</th>\n",
              "      <td>n10607478</td>\n",
              "      <td>Synset('skinhead.n.01')</td>\n",
              "    </tr>\n",
              "    <tr>\n",
              "      <th>12</th>\n",
              "      <td>n09863749</td>\n",
              "      <td>Synset('bolshevik.n.01')</td>\n",
              "    </tr>\n",
              "    <tr>\n",
              "      <th>13</th>\n",
              "      <td>n10228712</td>\n",
              "      <td>Synset('kachina.n.01')</td>\n",
              "    </tr>\n",
              "    <tr>\n",
              "      <th>14</th>\n",
              "      <td>n09695514</td>\n",
              "      <td>Synset('bruneian.n.01')</td>\n",
              "    </tr>\n",
              "    <tr>\n",
              "      <th>15</th>\n",
              "      <td>n10726031</td>\n",
              "      <td>Synset('transvestite.n.01')</td>\n",
              "    </tr>\n",
              "    <tr>\n",
              "      <th>16</th>\n",
              "      <td>n10131151</td>\n",
              "      <td>Synset('girl_wonder.n.01')</td>\n",
              "    </tr>\n",
              "    <tr>\n",
              "      <th>17</th>\n",
              "      <td>n09797998</td>\n",
              "      <td>Synset('ape-man.n.02')</td>\n",
              "    </tr>\n",
              "    <tr>\n",
              "      <th>18</th>\n",
              "      <td>n09730204</td>\n",
              "      <td>Synset('scandinavian.n.01')</td>\n",
              "    </tr>\n",
              "    <tr>\n",
              "      <th>19</th>\n",
              "      <td>n10485883</td>\n",
              "      <td>Synset('protectionist.n.01')</td>\n",
              "    </tr>\n",
              "  </tbody>\n",
              "</table>\n",
              "</div>"
            ],
            "text/plain": [
              "     synsetID                           hr_form\n",
              "0   n10252354             Synset('lector.n.01')\n",
              "1   n10178216             Synset('hitter.n.02')\n",
              "2   n10113583          Synset('front_man.n.01')\n",
              "3   n09632274   Synset('unskilled_person.n.01')\n",
              "4   n10665587               Synset('stud.n.01')\n",
              "5   n09743487             Synset('mainer.n.01')\n",
              "6   n10274815      Synset('lowerclassman.n.01')\n",
              "7   n09685233       Synset('hare_krishna.n.01')\n",
              "8   n10355806         Synset('new_dealer.n.01')\n",
              "9   n09793946             Synset('angler.n.02')\n",
              "10  n10554846            Synset('scalper.n.01')\n",
              "11  n10607478           Synset('skinhead.n.01')\n",
              "12  n09863749          Synset('bolshevik.n.01')\n",
              "13  n10228712            Synset('kachina.n.01')\n",
              "14  n09695514           Synset('bruneian.n.01')\n",
              "15  n10726031       Synset('transvestite.n.01')\n",
              "16  n10131151        Synset('girl_wonder.n.01')\n",
              "17  n09797998            Synset('ape-man.n.02')\n",
              "18  n09730204       Synset('scandinavian.n.01')\n",
              "19  n10485883      Synset('protectionist.n.01')"
            ]
          },
          "metadata": {},
          "execution_count": 26
        }
      ]
    },
    {
      "cell_type": "code",
      "metadata": {
        "id": "UbY0CfQgvca-"
      },
      "source": [
        ""
      ],
      "execution_count": null,
      "outputs": []
    }
  ]
}